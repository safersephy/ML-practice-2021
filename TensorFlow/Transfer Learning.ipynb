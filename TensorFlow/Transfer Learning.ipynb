{
 "cells": [
  {
   "cell_type": "code",
   "execution_count": 1,
   "id": "122895bd",
   "metadata": {},
   "outputs": [],
   "source": [
    "import os\n",
    "\n",
    "from tensorflow.keras import layers\n",
    "from tensorflow.keras import Model"
   ]
  },
  {
   "cell_type": "code",
   "execution_count": 5,
   "id": "1b1d5086",
   "metadata": {},
   "outputs": [
    {
     "name": "stdout",
     "output_type": "stream",
     "text": [
      "last layer output shape:  (None, 7, 7, 768)\n"
     ]
    }
   ],
   "source": [
    "from tensorflow.keras.applications.inception_v3 import InceptionV3\n",
    "\n",
    "local_weights_file = 'inception_v3_weights_tf_dim_ordering_tf_kernels_notop.h5'\n",
    "\n",
    "pre_trained_model = InceptionV3(input_shape = (150, 150, 3), \n",
    "                                include_top = False, \n",
    "                                weights = None)\n",
    "\n",
    "pre_trained_model.load_weights(local_weights_file)\n",
    "\n",
    "for layer in pre_trained_model.layers:\n",
    "    layer.trainable = False\n",
    "\n",
    "#pre_trained_model.summary()\n",
    "\n",
    "last_layer = pre_trained_model.get_layer('mixed7')\n",
    "print('last layer output shape: ', last_layer.output_shape)\n",
    "last_output = last_layer.output"
   ]
  },
  {
   "cell_type": "code",
   "execution_count": 18,
   "id": "d5533003",
   "metadata": {},
   "outputs": [],
   "source": [
    "from tensorflow.keras.optimizers import RMSprop\n",
    "\n",
    "# Flatten the output layer to 1 dimension\n",
    "x = layers.Flatten()(last_output)\n",
    "# Add a fully connected layer with 1,024 hidden units and ReLU activation\n",
    "x = layers.Dense(1024, activation='relu')(x)\n",
    "# Add a dropout rate of 0.2\n",
    "x = layers.Dropout(0.2)(x)                  \n",
    "# Add a final sigmoid layer for classification\n",
    "x = layers.Dense  (1, activation='sigmoid')(x)           \n",
    "\n",
    "model = Model( pre_trained_model.input, x) \n",
    "\n",
    "model.compile(optimizer = RMSprop(learning_rate=0.0001), \n",
    "              loss = 'binary_crossentropy', \n",
    "              metrics = 'accuracy')"
   ]
  },
  {
   "cell_type": "code",
   "execution_count": 16,
   "id": "4e5568c2",
   "metadata": {},
   "outputs": [
    {
     "name": "stdout",
     "output_type": "stream",
     "text": [
      "Found 2000 images belonging to 2 classes.\n",
      "Found 1000 images belonging to 2 classes.\n"
     ]
    }
   ],
   "source": [
    "from tensorflow.keras.preprocessing.image import ImageDataGenerator\n",
    "\n",
    "import os\n",
    "import zipfile\n",
    "# Define our example directories and files\n",
    "base_dir = 'cats_and_dogs_filtered'\n",
    "\n",
    "train_dir = os.path.join( base_dir, 'train')\n",
    "validation_dir = os.path.join( base_dir, 'validation')\n",
    "\n",
    "\n",
    "train_cats_dir = os.path.join(train_dir, 'cats') # Directory with our training cat pictures\n",
    "train_dogs_dir = os.path.join(train_dir, 'dogs') # Directory with our training dog pictures\n",
    "validation_cats_dir = os.path.join(validation_dir, 'cats') # Directory with our validation cat pictures\n",
    "validation_dogs_dir = os.path.join(validation_dir, 'dogs')# Directory with our validation dog pictures\n",
    "\n",
    "train_cat_fnames = os.listdir(train_cats_dir)\n",
    "train_dog_fnames = os.listdir(train_dogs_dir)\n",
    "\n",
    "# Add our data-augmentation parameters to ImageDataGenerator\n",
    "train_datagen = ImageDataGenerator(rescale = 1./255.,\n",
    "                                   rotation_range = 40,\n",
    "                                   width_shift_range = 0.2,\n",
    "                                   height_shift_range = 0.2,\n",
    "                                   shear_range = 0.2,\n",
    "                                   zoom_range = 0.2,\n",
    "                                   horizontal_flip = True)\n",
    "\n",
    "# Note that the validation data should not be augmented!\n",
    "test_datagen = ImageDataGenerator( rescale = 1.0/255. )\n",
    "\n",
    "# Flow training images in batches of 20 using train_datagen generator\n",
    "train_generator = train_datagen.flow_from_directory(train_dir,\n",
    "                                                    batch_size = 20,\n",
    "                                                    class_mode = 'binary', \n",
    "                                                    target_size = (150, 150))     \n",
    "\n",
    "# Flow validation images in batches of 20 using test_datagen generator\n",
    "validation_generator =  test_datagen.flow_from_directory( validation_dir,\n",
    "                                                          batch_size  = 20,\n",
    "                                                          class_mode  = 'binary', \n",
    "                                                          target_size = (150, 150))"
   ]
  },
  {
   "cell_type": "code",
   "execution_count": 17,
   "id": "bdf486c6",
   "metadata": {},
   "outputs": [
    {
     "name": "stdout",
     "output_type": "stream",
     "text": [
      "Epoch 1/20\n",
      "100/100 - 9s - loss: 0.3279 - accuracy: 0.8785 - val_loss: 0.1087 - val_accuracy: 0.9620 - 9s/epoch - 94ms/step\n",
      "Epoch 2/20\n",
      "100/100 - 7s - loss: 0.2181 - accuracy: 0.9170 - val_loss: 0.1013 - val_accuracy: 0.9620 - 7s/epoch - 69ms/step\n",
      "Epoch 3/20\n",
      "100/100 - 7s - loss: 0.2055 - accuracy: 0.9305 - val_loss: 0.0894 - val_accuracy: 0.9680 - 7s/epoch - 69ms/step\n",
      "Epoch 4/20\n",
      "100/100 - 7s - loss: 0.1875 - accuracy: 0.9320 - val_loss: 0.0982 - val_accuracy: 0.9650 - 7s/epoch - 69ms/step\n",
      "Epoch 5/20\n",
      "100/100 - 7s - loss: 0.1750 - accuracy: 0.9390 - val_loss: 0.1046 - val_accuracy: 0.9650 - 7s/epoch - 69ms/step\n",
      "Epoch 6/20\n",
      "100/100 - 7s - loss: 0.1875 - accuracy: 0.9310 - val_loss: 0.1073 - val_accuracy: 0.9670 - 7s/epoch - 69ms/step\n",
      "Epoch 7/20\n",
      "100/100 - 7s - loss: 0.1716 - accuracy: 0.9385 - val_loss: 0.1007 - val_accuracy: 0.9650 - 7s/epoch - 69ms/step\n",
      "Epoch 8/20\n",
      "100/100 - 7s - loss: 0.1686 - accuracy: 0.9455 - val_loss: 0.0948 - val_accuracy: 0.9690 - 7s/epoch - 69ms/step\n",
      "Epoch 9/20\n",
      "100/100 - 7s - loss: 0.1519 - accuracy: 0.9525 - val_loss: 0.0999 - val_accuracy: 0.9670 - 7s/epoch - 69ms/step\n",
      "Epoch 10/20\n",
      "100/100 - 7s - loss: 0.1361 - accuracy: 0.9535 - val_loss: 0.1203 - val_accuracy: 0.9630 - 7s/epoch - 69ms/step\n",
      "Epoch 11/20\n",
      "100/100 - 7s - loss: 0.1713 - accuracy: 0.9415 - val_loss: 0.1060 - val_accuracy: 0.9700 - 7s/epoch - 69ms/step\n",
      "Epoch 12/20\n",
      "100/100 - 7s - loss: 0.1707 - accuracy: 0.9435 - val_loss: 0.1155 - val_accuracy: 0.9600 - 7s/epoch - 69ms/step\n",
      "Epoch 13/20\n",
      "100/100 - 7s - loss: 0.1442 - accuracy: 0.9545 - val_loss: 0.1240 - val_accuracy: 0.9680 - 7s/epoch - 69ms/step\n",
      "Epoch 14/20\n",
      "100/100 - 7s - loss: 0.1522 - accuracy: 0.9465 - val_loss: 0.1576 - val_accuracy: 0.9620 - 7s/epoch - 69ms/step\n",
      "Epoch 15/20\n",
      "100/100 - 7s - loss: 0.1392 - accuracy: 0.9455 - val_loss: 0.1142 - val_accuracy: 0.9700 - 7s/epoch - 69ms/step\n",
      "Epoch 16/20\n",
      "100/100 - 7s - loss: 0.1528 - accuracy: 0.9550 - val_loss: 0.1735 - val_accuracy: 0.9600 - 7s/epoch - 69ms/step\n",
      "Epoch 17/20\n",
      "100/100 - 7s - loss: 0.1558 - accuracy: 0.9465 - val_loss: 0.1217 - val_accuracy: 0.9670 - 7s/epoch - 68ms/step\n",
      "Epoch 18/20\n",
      "100/100 - 7s - loss: 0.1381 - accuracy: 0.9530 - val_loss: 0.1050 - val_accuracy: 0.9700 - 7s/epoch - 69ms/step\n",
      "Epoch 19/20\n",
      "100/100 - 7s - loss: 0.1259 - accuracy: 0.9540 - val_loss: 0.2413 - val_accuracy: 0.9390 - 7s/epoch - 69ms/step\n",
      "Epoch 20/20\n",
      "100/100 - 7s - loss: 0.1267 - accuracy: 0.9595 - val_loss: 0.1240 - val_accuracy: 0.9690 - 7s/epoch - 69ms/step\n"
     ]
    }
   ],
   "source": [
    "history = model.fit(\n",
    "            train_generator,\n",
    "            validation_data = validation_generator,\n",
    "            steps_per_epoch = 100,\n",
    "            epochs = 20,\n",
    "            validation_steps = 50,\n",
    "            verbose = 2)"
   ]
  },
  {
   "cell_type": "code",
   "execution_count": 14,
   "id": "76277b43",
   "metadata": {},
   "outputs": [
    {
     "data": {
      "image/png": "[encoded data removed]",
      "text/plain": [
       "<Figure size 432x288 with 1 Axes>"
      ]
     },
     "metadata": {
      "needs_background": "light"
     },
     "output_type": "display_data"
    },
    {
     "data": {
      "text/plain": [
       "<Figure size 432x288 with 0 Axes>"
      ]
     },
     "metadata": {},
     "output_type": "display_data"
    }
   ],
   "source": [
    "import matplotlib.pyplot as plt\n",
    "acc = history.history['accuracy']\n",
    "val_acc = history.history['val_accuracy']\n",
    "loss = history.history['loss']\n",
    "val_loss = history.history['val_loss']\n",
    "\n",
    "epochs = range(len(acc))\n",
    "\n",
    "plt.plot(epochs, acc, 'r', label='Training accuracy')\n",
    "plt.plot(epochs, val_acc, 'b', label='Validation accuracy')\n",
    "plt.title('Training and validation accuracy')\n",
    "plt.legend(loc=0)\n",
    "plt.figure()\n",
    "\n",
    "\n",
    "plt.show()"
   ]
  }
 ],
 "metadata": {
  "kernelspec": {
   "display_name": "Python 3 (ipykernel)",
   "language": "python",
   "name": "python3"
  },
  "language_info": {
   "codemirror_mode": {
    "name": "ipython",
    "version": 3
   },
   "file_extension": ".py",
   "mimetype": "text/x-python",
   "name": "python",
   "nbconvert_exporter": "python",
   "pygments_lexer": "ipython3",
   "version": "3.8.12"
  }
 },
 "nbformat": 4,
 "nbformat_minor": 5
}
